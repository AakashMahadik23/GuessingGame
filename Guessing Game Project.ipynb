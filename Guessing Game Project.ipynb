{
 "cells": [
  {
   "cell_type": "code",
   "execution_count": 1,
   "id": "99074db5",
   "metadata": {},
   "outputs": [
    {
     "name": "stdout",
     "output_type": "stream",
     "text": [
      "guess a number 1-10: 5\n",
      "guess a number 1-10: 4\n",
      "guess a number 1-10: 6\n",
      "guess a number 1-10: 3\n",
      "guess a number 1-10: 1\n",
      "guess a number 1-10: 9\n",
      "guess a number 1-10: 8\n",
      "guess a number 1-10: 7\n",
      "guess a number 1-10: 2\n",
      "guess a number 1-10: 10\n",
      "you are a genius!\n"
     ]
    }
   ],
   "source": [
    "import random\n",
    "answer = random.randint(1,10)\n",
    "while True:\n",
    "    try:\n",
    "        guess = int(input('guess a number 1-10: '))\n",
    "        if 0 < guess < 11:\n",
    "            if guess == answer:\n",
    "                print('you are a genius!')\n",
    "                break\n",
    "        else:\n",
    "            print('hey Goku, i said 1-10')\n",
    "    except ValueError:\n",
    "            print('please enter a number')\n",
    "            continue\n",
    "                        "
   ]
  },
  {
   "cell_type": "code",
   "execution_count": null,
   "id": "8f9f29be",
   "metadata": {},
   "outputs": [],
   "source": []
  }
 ],
 "metadata": {
  "kernelspec": {
   "display_name": "Python 3 (ipykernel)",
   "language": "python",
   "name": "python3"
  },
  "language_info": {
   "codemirror_mode": {
    "name": "ipython",
    "version": 3
   },
   "file_extension": ".py",
   "mimetype": "text/x-python",
   "name": "python",
   "nbconvert_exporter": "python",
   "pygments_lexer": "ipython3",
   "version": "3.9.7"
  }
 },
 "nbformat": 4,
 "nbformat_minor": 5
}
